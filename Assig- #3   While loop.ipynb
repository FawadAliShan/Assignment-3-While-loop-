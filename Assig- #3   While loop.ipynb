{
 "cells": [
  {
   "cell_type": "code",
   "execution_count": null,
   "id": "16338351",
   "metadata": {},
   "outputs": [],
   "source": [
    "sum = 0\n",
    "product = 1\n",
    "count = 0\n",
    "\n",
    "# Input the N number of values\n",
    "N_Numbers = int(input(\"Enter the N number of values: \"))\n",
    "\n",
    "while count < N_Numbers:\n",
    "    # Prompt the user to enter the numbers\n",
    "    number = int(input(\"Enter a number to sum or product:  \"))\n",
    "\n",
    "    # Sum the numbers\n",
    "    sum += number\n",
    "    # product the numbers\n",
    "    product *= number\n",
    "    count += 1\n",
    "\n",
    "# Calculate the average of the numbers entered\n",
    "average = sum / count\n",
    "\n",
    "# For printing the sum, product, and average of the numbers entered\n",
    "print(\"Sum:\", sum)\n",
    "print(\"Product:\", product)\n",
    "print(\"Average:\", average)"
   ]
  },
  {
   "cell_type": "code",
   "execution_count": null,
   "id": "2e5b399c",
   "metadata": {},
   "outputs": [],
   "source": []
  }
 ],
 "metadata": {
  "kernelspec": {
   "display_name": "Python 3 (ipykernel)",
   "language": "python",
   "name": "python3"
  },
  "language_info": {
   "codemirror_mode": {
    "name": "ipython",
    "version": 3
   },
   "file_extension": ".py",
   "mimetype": "text/x-python",
   "name": "python",
   "nbconvert_exporter": "python",
   "pygments_lexer": "ipython3",
   "version": "3.11.3"
  }
 },
 "nbformat": 4,
 "nbformat_minor": 5
}
